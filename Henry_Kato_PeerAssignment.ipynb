{
 "cells": [
  {
   "cell_type": "markdown",
   "metadata": {},
   "source": [
    "<center>\n",
    "    <img src=\"https://cf-courses-data.s3.us.cloud-object-storage.appdomain.cloud/IBMDeveloperSkillsNetwork-DS0105EN-SkillsNetwork/labs/Module2/images/SN_web_lightmode.png\" width=\"300\" alt=\"cognitiveclass.ai logo\">\n",
    "</center>\n"
   ]
  },
  {
   "cell_type": "markdown",
   "metadata": {},
   "source": [
    "#### Add your code below following the instructions given in the course\n"
   ]
  },
  {
   "cell_type": "markdown",
   "metadata": {},
   "source": [
    "# Henry Kato - Peer Review Assignment"
   ]
  },
  {
   "cell_type": "markdown",
   "metadata": {
    "tags": []
   },
   "source": [
    "## Introduction\n",
    "\n",
    "Welcome to my assignment Jupyter Notebook. Here, I will demonstrate the knowledge I have acquired in the tools of data science course"
   ]
  },
  {
   "cell_type": "markdown",
   "metadata": {},
   "source": [
    "## Data Science Languages\n",
    "\n",
    "1. Python\n",
    "2. R\n",
    "3. SQL\n",
    "4. Julia\n",
    "5. Scala"
   ]
  },
  {
   "cell_type": "markdown",
   "metadata": {},
   "source": [
    "## Data Science Libraries\n",
    "\n",
    "1. NumPy\n",
    "2. Seaborn\n",
    "3. Pandas\n",
    "4. TensorFlow\n",
    "5. Matplotlib"
   ]
  },
  {
   "cell_type": "markdown",
   "metadata": {},
   "source": [
    "## Table of Data Science Tools\n",
    "\n",
    "| Number      | Tool Name                             |\n",
    "| --------------------| --------------------------------------|\n",
    "| 1                        | R-Studio |\n",
    "| 2                        | Jupyter Notebook |\n",
    "| 3                        | JupyterLab |\n",
    "| 4                        | GitHub |\n",
    "| 5                        | Relational Database Management System |\n"
   ]
  },
  {
   "cell_type": "markdown",
   "metadata": {},
   "source": [
    "## Arithmetic Expression Examples\n",
    "\n",
    "Arithmetic expressions are mathematical expressions in code that consists of a numeric value. These expressions can be evaluated to produce a numerical result. Here are some examples:\n",
    "\n",
    "1. Addition: `2 + 2 = 4`\n",
    "2. Subtraction: `10 - 5 = 5`\n",
    "3. Multiplication: `3 * 4 = 12`\n",
    "4. Division: `10 / 2 = 5`\n",
    "\n",
    "In Data Science, arithmetic expressions are often used to perform calculations on numerical data, such as computing summary statistics or manipulating data in a DataFrame. It's important to have a good understanding of arithmetic expressions in order to work effectively with numerical data.\n"
   ]
  },
  {
   "cell_type": "code",
   "execution_count": 3,
   "metadata": {},
   "outputs": [
    {
     "name": "stdout",
     "output_type": "stream",
     "text": [
      "x is:  9\n",
      "y is:  8\n"
     ]
    }
   ],
   "source": [
    "# Multiply two numbers\n",
    "x = 3 * 3\n",
    "\n",
    "# Add two numbers\n",
    "y = 4 + 4\n",
    "\n",
    "# print the results\n",
    "print(\"x is: \", x)\n",
    "print(\"y is: \", y)"
   ]
  },
  {
   "cell_type": "code",
   "execution_count": 4,
   "metadata": {},
   "outputs": [
    {
     "name": "stdout",
     "output_type": "stream",
     "text": [
      "120 translates to 2.0 hours\n"
     ]
    }
   ],
   "source": [
    "# Convert minutes to hours\n",
    "mins = 120\n",
    "hrs = mins / 60\n",
    "\n",
    "# Print the result\n",
    "print(mins, \"translates to\", hrs, \"hours\")\n"
   ]
  },
  {
   "cell_type": "markdown",
   "metadata": {},
   "source": [
    "### Objectives\n",
    "\n",
    "This assignment seeks to:\n",
    "1. assess my understanding of Code and Markdown cells in Jupyter Notebook\n",
    "2. assess my ability to share the Notebook on GitHub"
   ]
  },
  {
   "cell_type": "markdown",
   "metadata": {},
   "source": [
    "#### Author\n",
    "\n",
    "Henry Kato"
   ]
  },
  {
   "cell_type": "code",
   "execution_count": null,
   "metadata": {},
   "outputs": [],
   "source": []
  }
 ],
 "metadata": {
  "kernelspec": {
   "display_name": "Python",
   "language": "python",
   "name": "conda-env-python-py"
  },
  "language_info": {
   "codemirror_mode": {
    "name": "ipython",
    "version": 3
   },
   "file_extension": ".py",
   "mimetype": "text/x-python",
   "name": "python",
   "nbconvert_exporter": "python",
   "pygments_lexer": "ipython3",
   "version": "3.7.12"
  }
 },
 "nbformat": 4,
 "nbformat_minor": 4
}
